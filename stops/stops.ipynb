{
 "cells": [
  {
   "cell_type": "code",
   "execution_count": 9,
   "metadata": {},
   "outputs": [],
   "source": [
    "EXPORT_TO_JSON = False\n",
    "EXPORT_TO_SQLITE = True\n",
    "DATABASE_NAME = \"../db.sqlite\""
   ]
  },
  {
   "cell_type": "code",
   "execution_count": 10,
   "metadata": {},
   "outputs": [],
   "source": [
    "# Import required libraries\n",
    "import overpy\n",
    "import json\n",
    "import sqlite3\n",
    "\n",
    "from dataclasses import dataclass\n",
    "from decimal import Decimal\n",
    "from contextlib import closing\n",
    "\n",
    "api = overpy.Overpass()"
   ]
  },
  {
   "cell_type": "markdown",
   "metadata": {},
   "source": [
    "#### Declare `TramStop` class"
   ]
  },
  {
   "cell_type": "code",
   "execution_count": 11,
   "metadata": {},
   "outputs": [],
   "source": [
    "@dataclass(frozen=True)\n",
    "class TramStop:\n",
    "    \"\"\"\n",
    "        TramStop class represents a tram stop. Tram stops are considered equal\n",
    "        when their names are the same. In case of multiple stops with the same name,\n",
    "        their locations should be close enough to not make a difference in the model\n",
    "        and they would be difficult to distinguish between each other using the\n",
    "        data available from the time-table.\n",
    "    \"\"\"\n",
    "\n",
    "    node_id: int\n",
    "    name: str\n",
    "    latitude: Decimal\n",
    "    longitude: Decimal\n",
    "    \n",
    "    def __hash__(self) -> int:\n",
    "        return hash(self.name)\n",
    "    \n",
    "    def __eq__(self, other) -> bool:\n",
    "        if not isinstance(other, TramStop):\n",
    "            return False\n",
    "        \n",
    "        return self.name == other.name\n",
    "    \n",
    "    def to_json(self) -> dict[str, int | str | tuple[float, float]]:\n",
    "        return {\n",
    "            \"id\": self.node_id,\n",
    "            \"name\": self.name,\n",
    "            \"latitude\": float(self.latitude),\n",
    "            \"longitude\": float(self.longitude)\n",
    "        }\n",
    "    \n",
    "    def to_sql_parameters(self) -> tuple[int, str, float, float]:\n",
    "        return (\n",
    "            self.node_id,\n",
    "            self.name,\n",
    "            float(self.latitude),\n",
    "            float(self.longitude)\n",
    "        )"
   ]
  },
  {
   "cell_type": "markdown",
   "metadata": {},
   "source": [
    "#### Execute query using Overpass Turbo"
   ]
  },
  {
   "cell_type": "code",
   "execution_count": 12,
   "metadata": {},
   "outputs": [],
   "source": [
    "tram_stops_query_result = api.query(\"\"\"\n",
    "    [out:json];\n",
    "    area[\"name\"=\"Kraków\"]->.search_area;\n",
    "    node[\"tram\"=\"yes\"][\"railway\"=\"tram_stop\"](area.search_area);\n",
    "    out;\n",
    "\"\"\")"
   ]
  },
  {
   "cell_type": "markdown",
   "metadata": {},
   "source": [
    "#### Create a set of all tram stops"
   ]
  },
  {
   "cell_type": "code",
   "execution_count": 13,
   "metadata": {},
   "outputs": [],
   "source": [
    "tram_stops = {TramStop(item.id, item.tags.get(\"name\"), item.lat, item.lon) for item in tram_stops_query_result.nodes}"
   ]
  },
  {
   "cell_type": "markdown",
   "metadata": {},
   "source": [
    "#### Export to JSON"
   ]
  },
  {
   "cell_type": "code",
   "execution_count": 14,
   "metadata": {},
   "outputs": [],
   "source": [
    "if EXPORT_TO_JSON:\n",
    "    with open(\"tram-stops.json\", \"w+\") as file:\n",
    "        json.dump([item.to_json() for item in tram_stops], file, indent=4, ensure_ascii=False)"
   ]
  },
  {
   "cell_type": "markdown",
   "metadata": {},
   "source": [
    "#### Export to SQLite3"
   ]
  },
  {
   "cell_type": "code",
   "execution_count": 15,
   "metadata": {},
   "outputs": [],
   "source": [
    "if EXPORT_TO_SQLITE:\n",
    "    with closing(sqlite3.connect(DATABASE_NAME)) as connection, closing(connection.cursor()) as cursor:\n",
    "        cursor.execute(\"\"\"\n",
    "            CREATE TABLE IF NOT EXISTS tram_stops (\n",
    "                id INTEGER PRIMARY KEY,\n",
    "                name TEXT NOT NULL UNIQUE ON CONFLICT REPLACE,\n",
    "                latitude DECIMAL(10, 7) NOT NULL,\n",
    "                longitude DECIMAL(10, 7) NOT NULL\n",
    "            );\n",
    "        \"\"\")\n",
    "\n",
    "        cursor.executemany(\n",
    "            \"INSERT INTO tram_stops VALUES (?, ?, ?, ?) ON CONFLICT (id) DO NOTHING\",\n",
    "            (item.to_sql_parameters() for item in tram_stops)\n",
    "        )\n",
    "\n",
    "        connection.commit()"
   ]
  }
 ],
 "metadata": {
  "kernelspec": {
   "display_name": "venv",
   "language": "python",
   "name": "python3"
  },
  "language_info": {
   "codemirror_mode": {
    "name": "ipython",
    "version": 3
   },
   "file_extension": ".py",
   "mimetype": "text/x-python",
   "name": "python",
   "nbconvert_exporter": "python",
   "pygments_lexer": "ipython3",
   "version": "3.11.6"
  }
 },
 "nbformat": 4,
 "nbformat_minor": 2
}
