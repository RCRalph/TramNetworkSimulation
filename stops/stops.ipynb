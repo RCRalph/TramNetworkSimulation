{
 "cells": [
  {
   "metadata": {
    "ExecuteTime": {
     "end_time": "2024-05-03T21:57:52.401888Z",
     "start_time": "2024-05-03T21:57:52.396086Z"
    }
   },
   "cell_type": "code",
   "source": [
    "%reload_ext dotenv\n",
    "%dotenv .env"
   ],
   "outputs": [],
   "execution_count": 1
  },
  {
   "cell_type": "code",
   "metadata": {
    "ExecuteTime": {
     "end_time": "2024-05-03T21:57:52.428207Z",
     "start_time": "2024-05-03T21:57:52.423116Z"
    }
   },
   "source": [
    "import os\n",
    "import sqlite3\n",
    "from contextlib import closing\n",
    "from dataclasses import dataclass\n",
    "from decimal import Decimal\n",
    "\n",
    "import overpy\n",
    "\n",
    "api = overpy.Overpass()"
   ],
   "outputs": [],
   "execution_count": 2
  },
  {
   "cell_type": "markdown",
   "metadata": {},
   "source": [
    "#### Declare `TramStop` class"
   ]
  },
  {
   "cell_type": "code",
   "metadata": {
    "ExecuteTime": {
     "end_time": "2024-05-03T21:57:52.432145Z",
     "start_time": "2024-05-03T21:57:52.428950Z"
    }
   },
   "source": [
    "@dataclass(frozen=True)\n",
    "class TramStop:\n",
    "    \"\"\"\n",
    "        TramStop class represents a tram stop. Tram stops are considered equal\n",
    "        when their names are the same. In case of multiple stops with the same name,\n",
    "        their locations should be close enough to not make a difference in the model,\n",
    "        and they would be difficult to distinguish between each other using the\n",
    "        data available from the timetable.\n",
    "    \"\"\"\n",
    "\n",
    "    node_id: int\n",
    "    name: str\n",
    "    latitude: Decimal\n",
    "    longitude: Decimal\n",
    "\n",
    "    def __hash__(self) -> int:\n",
    "        return hash(self.name)\n",
    "\n",
    "    def __eq__(self, other) -> bool:\n",
    "        if not isinstance(other, TramStop):\n",
    "            return False\n",
    "\n",
    "        return self.name == other.name\n",
    "\n",
    "    def to_dict(self) -> dict[str, int | str | tuple[float, float]]:\n",
    "        return {\n",
    "            \"id\": self.node_id,\n",
    "            \"name\": self.name,\n",
    "            \"latitude\": float(self.latitude),\n",
    "            \"longitude\": float(self.longitude)\n",
    "        }\n",
    "\n",
    "    def to_sql_parameters(self) -> tuple[int, str, float, float]:\n",
    "        return (\n",
    "            self.node_id,\n",
    "            self.name,\n",
    "            float(self.latitude),\n",
    "            float(self.longitude)\n",
    "        )"
   ],
   "outputs": [],
   "execution_count": 3
  },
  {
   "cell_type": "markdown",
   "metadata": {},
   "source": [
    "#### Execute query using Overpass Turbo"
   ]
  },
  {
   "cell_type": "code",
   "metadata": {
    "ExecuteTime": {
     "end_time": "2024-05-03T21:57:52.764304Z",
     "start_time": "2024-05-03T21:57:52.432690Z"
    }
   },
   "source": [
    "tram_stops_query_result = api.query(\"\"\"\n",
    "    [out:json];\n",
    "    area[\"name\"=\"Kraków\"]->.search_area;\n",
    "    node[\"tram\"=\"yes\"][\"railway\"=\"tram_stop\"](area.search_area);\n",
    "    out;\n",
    "\"\"\")"
   ],
   "outputs": [],
   "execution_count": 4
  },
  {
   "cell_type": "markdown",
   "metadata": {},
   "source": [
    "#### Create a set of all tram stops"
   ]
  },
  {
   "cell_type": "code",
   "metadata": {
    "ExecuteTime": {
     "end_time": "2024-05-03T21:57:52.768320Z",
     "start_time": "2024-05-03T21:57:52.765840Z"
    }
   },
   "source": [
    "tram_stops = {TramStop(item.id, item.tags.get(\"name\"), item.lat, item.lon) for item in tram_stops_query_result.nodes}"
   ],
   "outputs": [],
   "execution_count": 5
  },
  {
   "cell_type": "markdown",
   "metadata": {},
   "source": [
    "#### Export to SQLite3"
   ]
  },
  {
   "cell_type": "code",
   "metadata": {
    "ExecuteTime": {
     "end_time": "2024-05-03T21:57:53.579055Z",
     "start_time": "2024-05-03T21:57:52.769058Z"
    }
   },
   "source": [
    "if os.environ.get('EXPORT_TO_SQLITE').lower() == \"yes\":\n",
    "    with closing(sqlite3.connect(os.environ.get('DATABASE_NAME'), isolation_level=None)) as connection, closing(\n",
    "        connection.cursor()) as cursor:\n",
    "        cursor.execute(\"\"\"\n",
    "            CREATE TABLE IF NOT EXISTS tram_stops (\n",
    "                id INTEGER PRIMARY KEY,\n",
    "                name TEXT NOT NULL UNIQUE ON CONFLICT REPLACE,\n",
    "                latitude DECIMAL(10, 7) NOT NULL,\n",
    "                longitude DECIMAL(10, 7) NOT NULL\n",
    "            );\n",
    "        \"\"\")\n",
    "\n",
    "        cursor.executemany(\n",
    "            \"INSERT INTO tram_stops VALUES (?, ?, ?, ?) ON CONFLICT (id) DO NOTHING\",\n",
    "            (item.to_sql_parameters() for item in tram_stops)\n",
    "        )"
   ],
   "outputs": [],
   "execution_count": 6
  }
 ],
 "metadata": {
  "kernelspec": {
   "display_name": "venv",
   "language": "python",
   "name": "python3"
  },
  "language_info": {
   "codemirror_mode": {
    "name": "ipython",
    "version": 3
   },
   "file_extension": ".py",
   "mimetype": "text/x-python",
   "name": "python",
   "nbconvert_exporter": "python",
   "pygments_lexer": "ipython3",
   "version": "3.11.6"
  }
 },
 "nbformat": 4,
 "nbformat_minor": 2
}
