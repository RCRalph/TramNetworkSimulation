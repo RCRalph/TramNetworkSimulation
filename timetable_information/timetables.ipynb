{
 "cells": [
  {
   "metadata": {
    "ExecuteTime": {
     "end_time": "2024-05-06T20:25:19.788857Z",
     "start_time": "2024-05-06T20:25:19.776461Z"
    }
   },
   "cell_type": "code",
   "source": [
    "%reload_ext dotenv\n",
    "%dotenv .env"
   ],
   "outputs": [],
   "execution_count": 1
  },
  {
   "cell_type": "code",
   "metadata": {
    "ExecuteTime": {
     "end_time": "2024-05-06T20:25:19.856104Z",
     "start_time": "2024-05-06T20:25:19.793952Z"
    }
   },
   "source": [
    "import os\n",
    "import re\n",
    "\n",
    "from mechanicalsoup import StatefulBrowser\n",
    "\n",
    "browser = StatefulBrowser()"
   ],
   "outputs": [],
   "execution_count": 2
  },
  {
   "cell_type": "markdown",
   "metadata": {},
   "source": "#### Get all tram line timetable URLs"
  },
  {
   "cell_type": "code",
   "metadata": {
    "ExecuteTime": {
     "end_time": "2024-05-06T20:25:20.025298Z",
     "start_time": "2024-05-06T20:25:19.856897Z"
    }
   },
   "source": "browser.open(os.environ.get('TIMETABLE_URL'))",
   "outputs": [
    {
     "data": {
      "text/plain": [
       "<Response [200]>"
      ]
     },
     "execution_count": 3,
     "metadata": {},
     "output_type": "execute_result"
    }
   ],
   "execution_count": 3
  },
  {
   "cell_type": "code",
   "metadata": {
    "ExecuteTime": {
     "end_time": "2024-05-06T20:25:20.030390Z",
     "start_time": "2024-05-06T20:25:20.026028Z"
    }
   },
   "source": [
    "tram_lines = {\n",
    "    item.text.strip(): item.get(\"href\")[1:]\n",
    "    for item in browser.page.findAll(\"a\", class_=lambda x: x and x.startswith(\"linia\"))\n",
    "    if len(item.text.strip()) <= 2\n",
    "}\n",
    "\n",
    "tram_lines"
   ],
   "outputs": [
    {
     "data": {
      "text/plain": [
       "{'1': '?lang=PL&linia=1',\n",
       " '3': '?lang=PL&linia=3',\n",
       " '4': '?lang=PL&linia=4',\n",
       " '5': '?lang=PL&linia=5',\n",
       " '8': '?lang=PL&linia=8',\n",
       " '9': '?lang=PL&linia=9',\n",
       " '10': '?lang=PL&linia=10',\n",
       " '11': '?lang=PL&linia=11',\n",
       " '13': '?lang=PL&linia=13',\n",
       " '14': '?lang=PL&linia=14',\n",
       " '16': '?lang=PL&linia=16',\n",
       " '17': '?lang=PL&linia=17',\n",
       " '18': '?lang=PL&linia=18',\n",
       " '19': '?lang=PL&linia=19',\n",
       " '20': '?lang=PL&linia=20',\n",
       " '21': '?lang=PL&linia=21',\n",
       " '22': '?lang=PL&linia=22',\n",
       " '24': '?lang=PL&linia=24',\n",
       " '44': '?lang=PL&linia=44',\n",
       " '49': '?lang=PL&linia=49',\n",
       " '50': '?lang=PL&linia=50',\n",
       " '52': '?lang=PL&linia=52',\n",
       " '62': '?lang=PL&linia=62',\n",
       " '64': '?lang=PL&linia=64',\n",
       " '69': '?lang=PL&linia=69',\n",
       " '72': '?lang=PL&linia=72'}"
      ]
     },
     "execution_count": 4,
     "metadata": {},
     "output_type": "execute_result"
    }
   ],
   "execution_count": 4
  },
  {
   "metadata": {},
   "cell_type": "markdown",
   "source": "## Line 1"
  },
  {
   "cell_type": "markdown",
   "metadata": {},
   "source": "#### Line variants"
  },
  {
   "cell_type": "code",
   "metadata": {
    "ExecuteTime": {
     "end_time": "2024-05-06T20:25:20.473320Z",
     "start_time": "2024-05-06T20:25:20.031545Z"
    }
   },
   "source": "browser.open(os.environ.get('TIMETABLE_URL') + tram_lines['1'])",
   "outputs": [
    {
     "data": {
      "text/plain": [
       "<Response [200]>"
      ]
     },
     "execution_count": 5,
     "metadata": {},
     "output_type": "execute_result"
    }
   ],
   "execution_count": 5
  },
  {
   "cell_type": "code",
   "metadata": {
    "ExecuteTime": {
     "end_time": "2024-05-06T20:25:20.477253Z",
     "start_time": "2024-05-06T20:25:20.474085Z"
    }
   },
   "source": [
    "variant_urls = {\n",
    "    item.text.strip(): item.get(\"href\")[1:]\n",
    "    for item in browser.page.findAll(\"table\")[7].findAll(\"a\")\n",
    "}\n",
    "\n",
    "variant_urls"
   ],
   "outputs": [
    {
     "data": {
      "text/plain": [
       "{'Elektromontaż - Cichy Kącik': '?lang=PL&akcja=index&rozklad=20240506&linia=1__1',\n",
       " 'Cichy Kącik - Elektromontaż': '?lang=PL&akcja=index&rozklad=20240506&linia=1__2'}"
      ]
     },
     "execution_count": 6,
     "metadata": {},
     "output_type": "execute_result"
    }
   ],
   "execution_count": 6
  },
  {
   "metadata": {},
   "cell_type": "markdown",
   "source": "#### First variant's stops"
  },
  {
   "cell_type": "code",
   "metadata": {
    "ExecuteTime": {
     "end_time": "2024-05-06T20:25:20.719378Z",
     "start_time": "2024-05-06T20:25:20.478077Z"
    }
   },
   "source": "browser.open(os.environ.get('TIMETABLE_URL') + list(variant_urls.values())[0])",
   "outputs": [
    {
     "data": {
      "text/plain": [
       "<Response [200]>"
      ]
     },
     "execution_count": 7,
     "metadata": {},
     "output_type": "execute_result"
    }
   ],
   "execution_count": 7
  },
  {
   "cell_type": "code",
   "metadata": {
    "ExecuteTime": {
     "end_time": "2024-05-06T20:25:20.724842Z",
     "start_time": "2024-05-06T20:25:20.720182Z"
    }
   },
   "source": [
    "stop_urls = {\n",
    "    item.text.strip(): item.find(\"a\") and item.find(\"a\").get(\"href\")[1:]\n",
    "    for item in browser.page.findAll(\"table\")[10].findAll(\"td\")\n",
    "    if item.text.strip()\n",
    "}\n",
    "\n",
    "stop_urls"
   ],
   "outputs": [
    {
     "data": {
      "text/plain": [
       "{'Elektromontaż 02': '?lang=PL&rozklad=20240506&linia=1__1__1',\n",
       " 'Grodzki Urząd Pracy 02': '?lang=PL&rozklad=20240506&linia=1__1__2',\n",
       " 'Wańkowicza 01': '?lang=PL&rozklad=20240506&linia=1__1__3',\n",
       " 'Cienista 01': '?lang=PL&rozklad=20240506&linia=1__1__4',\n",
       " 'Teatr Ludowy 01': '?lang=PL&rozklad=20240506&linia=1__1__5',\n",
       " 'Rondo Kocmyrzowskie im. Ks. Gorzelanego 02': '?lang=PL&rozklad=20240506&linia=1__1__6',\n",
       " 'Bieńczycka 01': '?lang=PL&rozklad=20240506&linia=1__1__7',\n",
       " 'Rondo Czyżyńskie 04': '?lang=PL&rozklad=20240506&linia=1__1__8',\n",
       " 'Centralna 02': '?lang=PL&rozklad=20240506&linia=1__1__9',\n",
       " 'Rondo 308. Dywizjonu 02': '?lang=PL&rozklad=20240506&linia=1__1__10',\n",
       " 'Ogród Doświadczeń 02': '?lang=PL&rozklad=20240506&linia=1__1__11',\n",
       " 'TAURON Arena Kraków al. Pokoju 02': '?lang=PL&rozklad=20240506&linia=1__1__12',\n",
       " 'Dąbie 02': '?lang=PL&rozklad=20240506&linia=1__1__13',\n",
       " 'Ofiar Dąbia 02': '?lang=PL&rozklad=20240506&linia=1__1__14',\n",
       " 'Fabryczna 02': '?lang=PL&rozklad=20240506&linia=1__1__15',\n",
       " 'Francesco Nullo 02': '?lang=PL&rozklad=20240506&linia=1__1__16',\n",
       " 'Teatr Variété 02': '?lang=PL&rozklad=20240506&linia=1__1__17',\n",
       " 'Rondo Grzegórzeckie 02': '?lang=PL&rozklad=20240506&linia=1__1__18',\n",
       " 'Hala Targowa 02': '?lang=PL&rozklad=20240506&linia=1__1__19',\n",
       " 'Starowiślna 04': '?lang=PL&rozklad=20240506&linia=1__1__20',\n",
       " 'Poczta Główna 02': '?lang=PL&rozklad=20240506&linia=1__1__21',\n",
       " 'Plac Wszystkich Świętych 01': '?lang=PL&rozklad=20240506&linia=1__1__22',\n",
       " 'Filharmonia 01': '?lang=PL&rozklad=20240506&linia=1__1__23',\n",
       " 'UJ / AST 01': '?lang=PL&rozklad=20240506&linia=1__1__24',\n",
       " 'Muzeum Narodowe 01': '?lang=PL&rozklad=20240506&linia=1__1__25',\n",
       " 'Oleandry 01': '?lang=PL&rozklad=20240506&linia=1__1__26',\n",
       " 'Park Jordana 01': '?lang=PL&rozklad=20240506&linia=1__1__27',\n",
       " 'Reymana 01': '?lang=PL&rozklad=20240506&linia=1__1__28',\n",
       " 'Cichy Kącik': None}"
      ]
     },
     "execution_count": 8,
     "metadata": {},
     "output_type": "execute_result"
    }
   ],
   "execution_count": 8
  },
  {
   "metadata": {},
   "cell_type": "markdown",
   "source": "#### First stop's departures"
  },
  {
   "cell_type": "code",
   "metadata": {
    "ExecuteTime": {
     "end_time": "2024-05-06T20:25:20.876041Z",
     "start_time": "2024-05-06T20:25:20.725422Z"
    }
   },
   "source": "browser.open(os.environ.get('TIMETABLE_URL') + list(stop_urls.values())[0])",
   "outputs": [
    {
     "data": {
      "text/plain": [
       "<Response [200]>"
      ]
     },
     "execution_count": 9,
     "metadata": {},
     "output_type": "execute_result"
    }
   ],
   "execution_count": 9
  },
  {
   "cell_type": "code",
   "metadata": {
    "ExecuteTime": {
     "end_time": "2024-05-06T20:25:20.880680Z",
     "start_time": "2024-05-06T20:25:20.876701Z"
    }
   },
   "source": [
    "for item in browser.page.findAll(\"table\")[13].findAll(\"tr\")[1:-2]:\n",
    "    cells = item.findAll(\"td\")\n",
    "\n",
    "    hour = int(cells[0].text)\n",
    "    weekday_minutes = [int(minute) for minute in cells[1].text.strip().split()]\n",
    "    saturday_minutes = [int(minute) for minute in cells[2].text.strip().split()]\n",
    "    sunday_minutes = [int(minute) for minute in cells[3].text.strip().split()]\n",
    "\n",
    "    print(hour, weekday_minutes, saturday_minutes, sunday_minutes, sep=\"\\t\")"
   ],
   "outputs": [
    {
     "name": "stdout",
     "output_type": "stream",
     "text": [
      "3\t[]\t[]\t[]\n",
      "4\t[44, 57]\t[50]\t[57]\n",
      "5\t[11, 28, 43, 59]\t[10, 30, 50]\t[27, 57]\n",
      "6\t[13, 21, 28, 34, 43, 51, 58]\t[10, 30, 50]\t[27, 57]\n",
      "7\t[6, 13, 21, 28, 36, 43, 51, 58]\t[10, 30, 50]\t[27, 59]\n",
      "8\t[6, 13, 21, 28, 36, 43, 51, 58]\t[9, 29, 49]\t[29, 59]\n",
      "9\t[6, 13, 21, 28, 36, 43, 51, 58]\t[9, 29, 49]\t[29, 49]\n",
      "10\t[6, 13, 21, 28, 36, 43, 51, 58]\t[9, 29, 49]\t[9, 29, 49]\n",
      "11\t[6, 13, 21, 28, 36, 43, 51, 58]\t[9, 29, 49]\t[9, 29, 49]\n",
      "12\t[6, 13, 21, 28, 36, 43, 51, 58]\t[9, 29, 49]\t[9, 29, 49]\n",
      "13\t[6, 13, 21, 28, 36, 43, 51]\t[9, 29, 49]\t[9, 29, 49]\n",
      "14\t[0, 8, 17, 24, 32, 40, 47, 55]\t[9, 29, 49]\t[9, 29, 49]\n",
      "15\t[2, 10, 17, 24, 32, 39, 47, 54]\t[9, 29, 49]\t[9, 29, 49]\n",
      "16\t[2, 9, 17, 24, 32, 39, 47, 54]\t[9, 29, 49]\t[9, 29, 49]\n",
      "17\t[2, 9, 17, 24, 32, 39, 47, 54]\t[9, 29, 49]\t[9, 29, 49]\n",
      "18\t[2, 9, 17, 24, 32, 39, 49, 58]\t[9, 29, 49]\t[9, 29, 49]\n",
      "19\t[6, 14, 25, 36, 53]\t[9, 29, 49]\t[9, 29, 49]\n",
      "20\t[6, 19, 34, 53]\t[10, 30, 50]\t[10, 30, 50]\n",
      "21\t[9, 28, 47]\t[10, 30, 50]\t[10, 30, 50]\n",
      "22\t[9, 29, 49]\t[10, 30]\t[10, 30]\n",
      "23\t[]\t[3]\t[3]\n",
      "0\t[]\t[]\t[]\n"
     ]
    }
   ],
   "execution_count": 10
  },
  {
   "metadata": {},
   "cell_type": "markdown",
   "source": ""
  },
  {
   "metadata": {},
   "cell_type": "markdown",
   "source": "## Line 50"
  },
  {
   "metadata": {},
   "cell_type": "markdown",
   "source": "#### Line variants"
  },
  {
   "metadata": {
    "ExecuteTime": {
     "end_time": "2024-05-06T20:25:21.106456Z",
     "start_time": "2024-05-06T20:25:20.882803Z"
    }
   },
   "cell_type": "code",
   "source": "browser.open(os.environ.get('TIMETABLE_URL') + tram_lines['50'])",
   "outputs": [
    {
     "data": {
      "text/plain": [
       "<Response [200]>"
      ]
     },
     "execution_count": 11,
     "metadata": {},
     "output_type": "execute_result"
    }
   ],
   "execution_count": 11
  },
  {
   "metadata": {
    "ExecuteTime": {
     "end_time": "2024-05-06T20:25:21.110162Z",
     "start_time": "2024-05-06T20:25:21.107123Z"
    }
   },
   "cell_type": "code",
   "source": [
    "variant_urls = {\n",
    "    item.text.strip(): item.get(\"href\")[1:]\n",
    "    for item in browser.page.findAll(\"table\")[7].findAll(\"a\")\n",
    "}\n",
    "\n",
    "variant_urls"
   ],
   "outputs": [
    {
     "data": {
      "text/plain": [
       "{'Górka Narodowa P+R - Borek Fałęcki': '?lang=PL&akcja=index&rozklad=20240506&linia=50__1',\n",
       " 'Borek Fałęcki - Górka Narodowa P+R': '?lang=PL&akcja=index&rozklad=20240506&linia=50__2'}"
      ]
     },
     "execution_count": 12,
     "metadata": {},
     "output_type": "execute_result"
    }
   ],
   "execution_count": 12
  },
  {
   "metadata": {},
   "cell_type": "markdown",
   "source": "#### First variant's stops"
  },
  {
   "metadata": {
    "ExecuteTime": {
     "end_time": "2024-05-06T20:25:21.345330Z",
     "start_time": "2024-05-06T20:25:21.110842Z"
    }
   },
   "cell_type": "code",
   "source": "browser.open(os.environ.get('TIMETABLE_URL') + list(variant_urls.values())[0])",
   "outputs": [
    {
     "data": {
      "text/plain": [
       "<Response [200]>"
      ]
     },
     "execution_count": 13,
     "metadata": {},
     "output_type": "execute_result"
    }
   ],
   "execution_count": 13
  },
  {
   "metadata": {
    "ExecuteTime": {
     "end_time": "2024-05-06T20:25:21.351159Z",
     "start_time": "2024-05-06T20:25:21.346045Z"
    }
   },
   "cell_type": "code",
   "source": [
    "stop_urls = {\n",
    "    item.text.strip(): item.find(\"a\") and item.find(\"a\").get(\"href\")[1:]\n",
    "    for item in browser.page.findAll(\"table\")[10].findAll(\"td\")\n",
    "    if item.text.strip()\n",
    "}\n",
    "\n",
    "stop_urls"
   ],
   "outputs": [
    {
     "data": {
      "text/plain": [
       "{'Górka Narodowa P+R 01': '?lang=PL&rozklad=20240506&linia=50__1__1',\n",
       " 'Papierni Prądnickich 02': '?lang=PL&rozklad=20240506&linia=50__1__2',\n",
       " 'Kuźnicy Kołłątajowskiej 02': '?lang=PL&rozklad=20240506&linia=50__1__3',\n",
       " 'Bociana 02': '?lang=PL&rozklad=20240506&linia=50__1__4',\n",
       " 'Siewna Wiadukt 02': '?lang=PL&rozklad=20240506&linia=50__1__5',\n",
       " 'Górnickiego 01': '?lang=PL&rozklad=20240506&linia=50__1__6',\n",
       " 'Białoprądnicka 01': '?lang=PL&rozklad=20240506&linia=50__1__7',\n",
       " 'Pachońskiego P+R 02': '?lang=PL&rozklad=20240506&linia=50__1__8',\n",
       " 'Krowodrza Górka P+R 02': '?lang=PL&rozklad=20240506&linia=50__1__9',\n",
       " 'Bratysławska 02': '?lang=PL&rozklad=20240506&linia=50__1__10',\n",
       " 'Szpital Narutowicza 02': '?lang=PL&rozklad=20240506&linia=50__1__11',\n",
       " 'Dworzec Towarowy 02': '?lang=PL&rozklad=20240506&linia=50__1__12',\n",
       " 'Politechnika 04': '?lang=PL&rozklad=20240506&linia=50__1__13',\n",
       " 'Dworzec Główny Tunel 01': '?lang=PL&rozklad=20240506&linia=50__1__14',\n",
       " 'Rondo Mogilskie 03': '?lang=PL&rozklad=20240506&linia=50__1__15',\n",
       " 'Rondo Grzegórzeckie 04': '?lang=PL&rozklad=20240506&linia=50__1__16',\n",
       " 'Zabłocie 01': '?lang=PL&rozklad=20240506&linia=50__1__17',\n",
       " 'Klimeckiego 01': '?lang=PL&rozklad=20240506&linia=50__1__18',\n",
       " 'Kuklińskiego 01': '?lang=PL&rozklad=20240506&linia=50__1__19',\n",
       " 'Gromadzka 01': '?lang=PL&rozklad=20240506&linia=50__1__20',\n",
       " 'Lipska 03': '?lang=PL&rozklad=20240506&linia=50__1__21',\n",
       " 'Dworzec Płaszów Estakada 02': '?lang=PL&rozklad=20240506&linia=50__1__22',\n",
       " 'Kabel 01': '?lang=PL&rozklad=20240506&linia=50__1__23',\n",
       " 'Bieżanowska 03': '?lang=PL&rozklad=20240506&linia=50__1__24',\n",
       " 'Dauna 01': '?lang=PL&rozklad=20240506&linia=50__1__25',\n",
       " 'Piaski Nowe 01': '?lang=PL&rozklad=20240506&linia=50__1__26',\n",
       " 'Nowosądecka 01': '?lang=PL&rozklad=20240506&linia=50__1__27',\n",
       " 'Witosa 01': '?lang=PL&rozklad=20240506&linia=50__1__28',\n",
       " 'Kurdwanów P+R 08': '?lang=PL&rozklad=20240506&linia=50__1__29',\n",
       " 'Kurdwanów P+R 10': '?lang=PL&rozklad=20240506&linia=50__1__30',\n",
       " 'Turowicza 02': '?lang=PL&rozklad=20240506&linia=50__1__31',\n",
       " 'Sanktuarium Bożego Miłosierdzia 02': '?lang=PL&rozklad=20240506&linia=50__1__32',\n",
       " 'Łagiewniki SKA 01': '?lang=PL&rozklad=20240506&linia=50__1__33',\n",
       " 'Solvay 01': '?lang=PL&rozklad=20240506&linia=50__1__34',\n",
       " 'Borek Fałęcki I 01': '?lang=PL&rozklad=20240506&linia=50__1__35',\n",
       " 'Borek Fałęcki': None}"
      ]
     },
     "execution_count": 14,
     "metadata": {},
     "output_type": "execute_result"
    }
   ],
   "execution_count": 14
  },
  {
   "metadata": {},
   "cell_type": "markdown",
   "source": "#### First stop's departures"
  },
  {
   "metadata": {
    "ExecuteTime": {
     "end_time": "2024-05-06T20:25:21.590055Z",
     "start_time": "2024-05-06T20:25:21.351908Z"
    }
   },
   "cell_type": "code",
   "source": "browser.open(os.environ.get('TIMETABLE_URL') + list(stop_urls.values())[0])",
   "outputs": [
    {
     "data": {
      "text/plain": [
       "<Response [200]>"
      ]
     },
     "execution_count": 15,
     "metadata": {},
     "output_type": "execute_result"
    }
   ],
   "execution_count": 15
  },
  {
   "metadata": {
    "ExecuteTime": {
     "end_time": "2024-05-06T20:25:21.596269Z",
     "start_time": "2024-05-06T20:25:21.590798Z"
    }
   },
   "cell_type": "code",
   "source": [
    "for item in browser.page.findAll(\"table\")[13].findAll(\"tr\")[1:-2]:\n",
    "    cells = item.findAll(\"td\")\n",
    "\n",
    "    hour = int(cells[0].text)\n",
    "    print()\n",
    "    weekday_minutes = [int(re.sub(\"[^0-9]\", \"\", minute)) for minute in cells[1].text.strip().split()]\n",
    "    saturday_minutes = [int(re.sub(\"[^0-9]\", \"\", minute)) for minute in cells[2].text.strip().split()]\n",
    "    sunday_minutes = [int(re.sub(\"[^0-9]\", \"\", minute)) for minute in cells[3].text.strip().split()]\n",
    "\n",
    "    print(hour, weekday_minutes, saturday_minutes, sunday_minutes, sep=\"\\t\")"
   ],
   "outputs": [
    {
     "name": "stdout",
     "output_type": "stream",
     "text": [
      "\n",
      "3\t[]\t[]\t[]\n",
      "\n",
      "4\t[43, 57]\t[39, 59]\t[44]\n",
      "\n",
      "5\t[12, 23, 28, 33, 38, 43, 48, 53, 58]\t[19, 39, 59]\t[14, 44]\n",
      "\n",
      "6\t[3, 8, 13, 18, 23, 28, 33, 38, 43, 48, 53, 58]\t[19, 39, 59]\t[14, 44]\n",
      "\n",
      "7\t[3, 8, 13, 18, 23, 28, 33, 38, 43, 48, 53, 58]\t[19, 39, 56]\t[14, 39, 59]\n",
      "\n",
      "8\t[3, 8, 13, 18, 24, 29, 34, 39, 46, 54]\t[6, 16, 26, 36, 46, 56]\t[19, 39, 59]\n",
      "\n",
      "9\t[1, 9, 16, 24, 31, 39, 46, 54]\t[6, 16, 26, 36, 46, 56]\t[19, 39, 59]\n",
      "\n",
      "10\t[1, 9, 16, 24, 31, 39, 46, 54]\t[6, 16, 26, 36, 46, 56]\t[19, 39, 59]\n",
      "\n",
      "11\t[1, 9, 16, 24, 31, 39, 46, 54]\t[6, 16, 26, 36, 46, 56]\t[19, 39, 59]\n",
      "\n",
      "12\t[1, 9, 16, 24, 31, 39, 46, 54]\t[6, 16, 26, 36, 46, 56]\t[19, 39, 59]\n",
      "\n",
      "13\t[1, 9, 16, 24, 31, 36, 41, 46, 51, 56]\t[6, 16, 26, 36, 46, 56]\t[19, 39, 56]\n",
      "\n",
      "14\t[1, 6, 11, 16, 21, 26, 31, 36, 41, 46, 51, 56]\t[6, 16, 26, 36, 46, 56]\t[6, 16, 26, 36, 46, 56]\n",
      "\n",
      "15\t[1, 6, 11, 16, 21, 26, 31, 36, 41, 46, 51, 56]\t[6, 16, 26, 36, 46, 56]\t[6, 16, 26, 36, 46, 56]\n",
      "\n",
      "16\t[1, 6, 11, 16, 21, 26, 31, 36, 41, 46, 51, 56]\t[6, 16, 26, 36, 46, 56]\t[6, 16, 26, 36, 46, 56]\n",
      "\n",
      "17\t[1, 6, 11, 16, 21, 26, 31, 36, 41, 46, 51, 56]\t[6, 16, 26, 36, 46, 56]\t[6, 16, 26, 36, 46, 56]\n",
      "\n",
      "18\t[3, 11, 18, 26, 33, 41, 48, 55]\t[6, 16, 26, 36, 46, 56]\t[6, 16, 26, 36, 46, 56]\n",
      "\n",
      "19\t[3, 11, 18, 33, 48]\t[6, 16, 26, 36, 46, 56]\t[6, 16, 26, 36, 46, 56]\n",
      "\n",
      "20\t[3, 18, 33, 48]\t[6, 19, 39, 59]\t[6, 19, 39, 59]\n",
      "\n",
      "21\t[3, 18, 33, 48]\t[19, 39, 59]\t[19, 39, 59]\n",
      "\n",
      "22\t[5, 25, 45]\t[19, 39, 59]\t[19, 39, 59]\n",
      "\n",
      "23\t[5]\t[]\t[]\n",
      "\n",
      "0\t[]\t[]\t[]\n"
     ]
    }
   ],
   "execution_count": 16
  }
 ],
 "metadata": {
  "kernelspec": {
   "display_name": "venv",
   "language": "python",
   "name": "python3"
  },
  "language_info": {
   "codemirror_mode": {
    "name": "ipython",
    "version": 3
   },
   "file_extension": ".py",
   "mimetype": "text/x-python",
   "name": "python",
   "nbconvert_exporter": "python",
   "pygments_lexer": "ipython3",
   "version": "3.11.6"
  }
 },
 "nbformat": 4,
 "nbformat_minor": 2
}
