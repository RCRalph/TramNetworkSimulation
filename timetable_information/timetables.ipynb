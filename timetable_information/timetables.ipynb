{
 "cells": [
  {
   "metadata": {
    "ExecuteTime": {
     "end_time": "2024-05-05T22:50:07.151195Z",
     "start_time": "2024-05-05T22:50:07.145456Z"
    }
   },
   "cell_type": "code",
   "source": [
    "%reload_ext dotenv\n",
    "%dotenv .env"
   ],
   "outputs": [],
   "execution_count": 1
  },
  {
   "cell_type": "code",
   "metadata": {
    "ExecuteTime": {
     "end_time": "2024-05-05T22:50:07.275877Z",
     "start_time": "2024-05-05T22:50:07.215425Z"
    }
   },
   "source": [
    "import os\n",
    "import re\n",
    "\n",
    "from mechanicalsoup import StatefulBrowser\n",
    "\n",
    "browser = StatefulBrowser()"
   ],
   "outputs": [],
   "execution_count": 2
  },
  {
   "cell_type": "markdown",
   "metadata": {},
   "source": "#### Get all tram line timetable URLs"
  },
  {
   "cell_type": "code",
   "metadata": {
    "ExecuteTime": {
     "end_time": "2024-05-05T22:50:07.452851Z",
     "start_time": "2024-05-05T22:50:07.276838Z"
    }
   },
   "source": "browser.open(os.environ.get('TIMETABLE_URL'))",
   "outputs": [
    {
     "data": {
      "text/plain": [
       "<Response [200]>"
      ]
     },
     "execution_count": 3,
     "metadata": {},
     "output_type": "execute_result"
    }
   ],
   "execution_count": 3
  },
  {
   "cell_type": "code",
   "metadata": {
    "ExecuteTime": {
     "end_time": "2024-05-05T22:50:07.458204Z",
     "start_time": "2024-05-05T22:50:07.453588Z"
    }
   },
   "source": [
    "tram_lines = {\n",
    "    item.text.strip(): item.get(\"href\")[1:]\n",
    "    for item in browser.page.findAll(\"a\", class_=lambda x: x and x.startswith(\"linia\"))\n",
    "    if len(item.text.strip()) <= 2\n",
    "}\n",
    "\n",
    "tram_lines"
   ],
   "outputs": [
    {
     "data": {
      "text/plain": [
       "{'1': '?lang=PL&linia=1',\n",
       " '3': '?lang=PL&linia=3',\n",
       " '4': '?lang=PL&linia=4',\n",
       " '5': '?lang=PL&linia=5',\n",
       " '8': '?lang=PL&linia=8',\n",
       " '9': '?lang=PL&linia=9',\n",
       " '10': '?lang=PL&linia=10',\n",
       " '11': '?lang=PL&linia=11',\n",
       " '13': '?lang=PL&linia=13',\n",
       " '14': '?lang=PL&linia=14',\n",
       " '16': '?lang=PL&linia=16',\n",
       " '17': '?lang=PL&linia=17',\n",
       " '18': '?lang=PL&linia=18',\n",
       " '20': '?lang=PL&linia=20',\n",
       " '21': '?lang=PL&linia=21',\n",
       " '22': '?lang=PL&linia=22',\n",
       " '24': '?lang=PL&linia=24',\n",
       " '50': '?lang=PL&linia=50',\n",
       " '52': '?lang=PL&linia=52',\n",
       " '62': '?lang=PL&linia=62',\n",
       " '64': '?lang=PL&linia=64',\n",
       " '69': '?lang=PL&linia=69',\n",
       " '72': '?lang=PL&linia=72'}"
      ]
     },
     "execution_count": 4,
     "metadata": {},
     "output_type": "execute_result"
    }
   ],
   "execution_count": 4
  },
  {
   "metadata": {},
   "cell_type": "markdown",
   "source": "## Line 1"
  },
  {
   "cell_type": "markdown",
   "metadata": {},
   "source": "#### Line variants"
  },
  {
   "cell_type": "code",
   "metadata": {
    "ExecuteTime": {
     "end_time": "2024-05-05T22:50:07.924005Z",
     "start_time": "2024-05-05T22:50:07.459313Z"
    }
   },
   "source": "browser.open(os.environ.get('TIMETABLE_URL') + tram_lines['1'])",
   "outputs": [
    {
     "data": {
      "text/plain": [
       "<Response [200]>"
      ]
     },
     "execution_count": 5,
     "metadata": {},
     "output_type": "execute_result"
    }
   ],
   "execution_count": 5
  },
  {
   "cell_type": "code",
   "metadata": {
    "ExecuteTime": {
     "end_time": "2024-05-05T22:50:07.928670Z",
     "start_time": "2024-05-05T22:50:07.924642Z"
    }
   },
   "source": [
    "variant_urls = {\n",
    "    item.text.strip(): item.get(\"href\")[1:]\n",
    "    for item in browser.page.findAll(\"table\")[7].findAll(\"a\")\n",
    "}\n",
    "\n",
    "variant_urls"
   ],
   "outputs": [
    {
     "data": {
      "text/plain": [
       "{'Rondo Hipokratesa - Cichy Kącik': '?lang=PL&akcja=index&rozklad=20240504&linia=1__1',\n",
       " 'Cichy Kącik - Rondo Hipokratesa': '?lang=PL&akcja=index&rozklad=20240504&linia=1__2'}"
      ]
     },
     "execution_count": 6,
     "metadata": {},
     "output_type": "execute_result"
    }
   ],
   "execution_count": 6
  },
  {
   "metadata": {},
   "cell_type": "markdown",
   "source": "#### First variant's stops"
  },
  {
   "cell_type": "code",
   "metadata": {
    "ExecuteTime": {
     "end_time": "2024-05-05T22:50:08.387091Z",
     "start_time": "2024-05-05T22:50:07.930165Z"
    }
   },
   "source": "browser.open(os.environ.get('TIMETABLE_URL') + list(variant_urls.values())[0])",
   "outputs": [
    {
     "data": {
      "text/plain": [
       "<Response [200]>"
      ]
     },
     "execution_count": 7,
     "metadata": {},
     "output_type": "execute_result"
    }
   ],
   "execution_count": 7
  },
  {
   "cell_type": "code",
   "metadata": {
    "ExecuteTime": {
     "end_time": "2024-05-05T22:50:08.391821Z",
     "start_time": "2024-05-05T22:50:08.387663Z"
    }
   },
   "source": [
    "stop_urls = {\n",
    "    item.text.strip(): item.find(\"a\") and item.find(\"a\").get(\"href\")[1:]\n",
    "    for item in browser.page.findAll(\"table\")[10].findAll(\"td\")\n",
    "    if item.text.strip()\n",
    "}\n",
    "\n",
    "stop_urls"
   ],
   "outputs": [
    {
     "data": {
      "text/plain": [
       "{'Rondo Hipokratesa 02': '?lang=PL&rozklad=20240504&linia=1__1__1',\n",
       " 'DH Wanda 02': '?lang=PL&rozklad=20240504&linia=1__1__2',\n",
       " 'Rondo Kocmyrzowskie im. Ks. Gorzelanego 02': '?lang=PL&rozklad=20240504&linia=1__1__3',\n",
       " 'Bieńczycka 01': '?lang=PL&rozklad=20240504&linia=1__1__4',\n",
       " 'Rondo Czyżyńskie 04': '?lang=PL&rozklad=20240504&linia=1__1__5',\n",
       " 'Centralna 02': '?lang=PL&rozklad=20240504&linia=1__1__6',\n",
       " 'Rondo 308. Dywizjonu 02': '?lang=PL&rozklad=20240504&linia=1__1__7',\n",
       " 'Ogród Doświadczeń 02': '?lang=PL&rozklad=20240504&linia=1__1__8',\n",
       " 'TAURON Arena Kraków al. Pokoju 02': '?lang=PL&rozklad=20240504&linia=1__1__9',\n",
       " 'Dąbie 02': '?lang=PL&rozklad=20240504&linia=1__1__10',\n",
       " 'Ofiar Dąbia 02': '?lang=PL&rozklad=20240504&linia=1__1__11',\n",
       " 'Fabryczna 02': '?lang=PL&rozklad=20240504&linia=1__1__12',\n",
       " 'Francesco Nullo 02': '?lang=PL&rozklad=20240504&linia=1__1__13',\n",
       " 'Teatr Variété 02': '?lang=PL&rozklad=20240504&linia=1__1__14',\n",
       " 'Rondo Grzegórzeckie 02': '?lang=PL&rozklad=20240504&linia=1__1__15',\n",
       " 'Hala Targowa 02': '?lang=PL&rozklad=20240504&linia=1__1__16',\n",
       " 'Starowiślna 04': '?lang=PL&rozklad=20240504&linia=1__1__17',\n",
       " 'Poczta Główna 02': '?lang=PL&rozklad=20240504&linia=1__1__18',\n",
       " 'Plac Wszystkich Świętych 01': '?lang=PL&rozklad=20240504&linia=1__1__19',\n",
       " 'Filharmonia 01': '?lang=PL&rozklad=20240504&linia=1__1__20',\n",
       " 'UJ / AST 01': '?lang=PL&rozklad=20240504&linia=1__1__21',\n",
       " 'Muzeum Narodowe 01': '?lang=PL&rozklad=20240504&linia=1__1__22',\n",
       " 'Oleandry 01': '?lang=PL&rozklad=20240504&linia=1__1__23',\n",
       " 'Park Jordana 01': '?lang=PL&rozklad=20240504&linia=1__1__24',\n",
       " 'Reymana 01': '?lang=PL&rozklad=20240504&linia=1__1__25',\n",
       " 'Cichy Kącik': None}"
      ]
     },
     "execution_count": 8,
     "metadata": {},
     "output_type": "execute_result"
    }
   ],
   "execution_count": 8
  },
  {
   "metadata": {},
   "cell_type": "markdown",
   "source": "#### First stop's departures"
  },
  {
   "cell_type": "code",
   "metadata": {
    "ExecuteTime": {
     "end_time": "2024-05-05T22:50:08.517084Z",
     "start_time": "2024-05-05T22:50:08.392598Z"
    }
   },
   "source": "browser.open(os.environ.get('TIMETABLE_URL') + list(stop_urls.values())[0])",
   "outputs": [
    {
     "data": {
      "text/plain": [
       "<Response [200]>"
      ]
     },
     "execution_count": 9,
     "metadata": {},
     "output_type": "execute_result"
    }
   ],
   "execution_count": 9
  },
  {
   "cell_type": "code",
   "metadata": {
    "ExecuteTime": {
     "end_time": "2024-05-05T22:50:08.523751Z",
     "start_time": "2024-05-05T22:50:08.518586Z"
    }
   },
   "source": [
    "for item in browser.page.findAll(\"table\")[13].findAll(\"tr\")[1:-2]:\n",
    "    cells = item.findAll(\"td\")\n",
    "\n",
    "    hour = int(cells[0].text)\n",
    "    weekday_minutes = [int(minute) for minute in cells[1].text.strip().split()]\n",
    "    saturday_minutes = [int(minute) for minute in cells[2].text.strip().split()]\n",
    "    sunday_minutes = [int(minute) for minute in cells[3].text.strip().split()]\n",
    "\n",
    "    print(hour, weekday_minutes, saturday_minutes, sunday_minutes, sep=\"\\t\")"
   ],
   "outputs": [
    {
     "name": "stdout",
     "output_type": "stream",
     "text": [
      "3\t[]\t[]\t[]\n",
      "4\t[48]\t[54]\t[]\n",
      "5\t[1, 15, 32, 47]\t[14, 34, 54]\t[1, 31]\n",
      "6\t[3, 17, 33, 47]\t[14, 34, 54]\t[1, 31]\n",
      "7\t[3, 18, 33, 48]\t[14, 34, 54]\t[1, 31]\n",
      "8\t[3, 18, 33, 48]\t[13, 33, 53]\t[3, 33]\n",
      "9\t[3, 18, 33, 48]\t[13, 33, 53]\t[3, 33, 53]\n",
      "10\t[3, 18, 33, 48]\t[13, 33, 53]\t[13, 33, 53]\n",
      "11\t[3, 18, 33, 48]\t[13, 33, 53]\t[13, 33, 53]\n",
      "12\t[3, 18, 33, 48]\t[13, 33, 53]\t[13, 33, 53]\n",
      "13\t[3, 16, 32, 47]\t[13, 33, 53]\t[13, 33, 53]\n",
      "14\t[4, 21, 36, 51]\t[13, 33, 53]\t[13, 33, 53]\n",
      "15\t[6, 21, 36, 51]\t[13, 33, 53]\t[13, 33, 53]\n",
      "16\t[6, 21, 36, 51]\t[13, 33, 53]\t[13, 33, 53]\n",
      "17\t[6, 21, 36, 51]\t[13, 33, 53]\t[13, 33, 53]\n",
      "18\t[6, 21, 36, 53]\t[13, 33, 53]\t[13, 33, 53]\n",
      "19\t[10, 25, 40, 57]\t[13, 33, 53]\t[13, 33, 53]\n",
      "20\t[10, 23, 38, 53]\t[14, 34, 54]\t[14, 34, 54]\n",
      "21\t[12, 32, 51]\t[14, 34, 54]\t[14, 34, 54]\n",
      "22\t[13, 33, 54]\t[14, 34]\t[14, 34]\n",
      "23\t[]\t[4]\t[4]\n",
      "0\t[]\t[]\t[]\n"
     ]
    }
   ],
   "execution_count": 10
  },
  {
   "metadata": {},
   "cell_type": "markdown",
   "source": ""
  },
  {
   "metadata": {},
   "cell_type": "markdown",
   "source": "## Line 50"
  },
  {
   "metadata": {},
   "cell_type": "markdown",
   "source": "#### Line variants"
  },
  {
   "metadata": {
    "ExecuteTime": {
     "end_time": "2024-05-05T22:50:08.745021Z",
     "start_time": "2024-05-05T22:50:08.524589Z"
    }
   },
   "cell_type": "code",
   "source": "browser.open(os.environ.get('TIMETABLE_URL') + tram_lines['50'])",
   "outputs": [
    {
     "data": {
      "text/plain": [
       "<Response [200]>"
      ]
     },
     "execution_count": 11,
     "metadata": {},
     "output_type": "execute_result"
    }
   ],
   "execution_count": 11
  },
  {
   "metadata": {
    "ExecuteTime": {
     "end_time": "2024-05-05T22:50:08.752331Z",
     "start_time": "2024-05-05T22:50:08.746219Z"
    }
   },
   "cell_type": "code",
   "source": [
    "variant_urls = {\n",
    "    item.text.strip(): item.get(\"href\")[1:]\n",
    "    for item in browser.page.findAll(\"table\")[7].findAll(\"a\")\n",
    "}\n",
    "\n",
    "variant_urls"
   ],
   "outputs": [
    {
     "data": {
      "text/plain": [
       "{'Górka Narodowa P+R - Borek Fałęcki': '?lang=PL&akcja=index&rozklad=20240504&linia=50__1',\n",
       " 'Borek Fałęcki - Górka Narodowa P+R': '?lang=PL&akcja=index&rozklad=20240504&linia=50__2'}"
      ]
     },
     "execution_count": 12,
     "metadata": {},
     "output_type": "execute_result"
    }
   ],
   "execution_count": 12
  },
  {
   "metadata": {},
   "cell_type": "markdown",
   "source": "#### First variant's stops"
  },
  {
   "metadata": {
    "ExecuteTime": {
     "end_time": "2024-05-05T22:50:08.971429Z",
     "start_time": "2024-05-05T22:50:08.753535Z"
    }
   },
   "cell_type": "code",
   "source": "browser.open(os.environ.get('TIMETABLE_URL') + list(variant_urls.values())[0])",
   "outputs": [
    {
     "data": {
      "text/plain": [
       "<Response [200]>"
      ]
     },
     "execution_count": 13,
     "metadata": {},
     "output_type": "execute_result"
    }
   ],
   "execution_count": 13
  },
  {
   "metadata": {
    "ExecuteTime": {
     "end_time": "2024-05-05T22:50:08.977636Z",
     "start_time": "2024-05-05T22:50:08.972430Z"
    }
   },
   "cell_type": "code",
   "source": [
    "stop_urls = {\n",
    "    item.text.strip(): item.find(\"a\") and item.find(\"a\").get(\"href\")[1:]\n",
    "    for item in browser.page.findAll(\"table\")[10].findAll(\"td\")\n",
    "    if item.text.strip()\n",
    "}\n",
    "\n",
    "stop_urls"
   ],
   "outputs": [
    {
     "data": {
      "text/plain": [
       "{'Górka Narodowa P+R 01': '?lang=PL&rozklad=20240504&linia=50__1__1',\n",
       " 'Papierni Prądnickich 02': '?lang=PL&rozklad=20240504&linia=50__1__2',\n",
       " 'Kuźnicy Kołłątajowskiej 02': '?lang=PL&rozklad=20240504&linia=50__1__3',\n",
       " 'Bociana 02': '?lang=PL&rozklad=20240504&linia=50__1__4',\n",
       " 'Siewna Wiadukt 02': '?lang=PL&rozklad=20240504&linia=50__1__5',\n",
       " 'Górnickiego 01': '?lang=PL&rozklad=20240504&linia=50__1__6',\n",
       " 'Białoprądnicka 01': '?lang=PL&rozklad=20240504&linia=50__1__7',\n",
       " 'Pachońskiego P+R 02': '?lang=PL&rozklad=20240504&linia=50__1__8',\n",
       " 'Krowodrza Górka P+R 02': '?lang=PL&rozklad=20240504&linia=50__1__9',\n",
       " 'Bratysławska 02': '?lang=PL&rozklad=20240504&linia=50__1__10',\n",
       " 'Szpital Narutowicza 02': '?lang=PL&rozklad=20240504&linia=50__1__11',\n",
       " 'Dworzec Towarowy 03': '?lang=PL&rozklad=20240504&linia=50__1__12',\n",
       " 'Nowy Kleparz 02': '?lang=PL&rozklad=20240504&linia=50__1__13',\n",
       " 'Pędzichów 02': '?lang=PL&rozklad=20240504&linia=50__1__14',\n",
       " 'Stary Kleparz 03': '?lang=PL&rozklad=20240504&linia=50__1__15',\n",
       " 'Teatr Słowackiego 02': '?lang=PL&rozklad=20240504&linia=50__1__16',\n",
       " 'Lubicz 02': '?lang=PL&rozklad=20240504&linia=50__1__17',\n",
       " 'Rondo Mogilskie 03': '?lang=PL&rozklad=20240504&linia=50__1__18',\n",
       " 'Rondo Grzegórzeckie 04': '?lang=PL&rozklad=20240504&linia=50__1__19',\n",
       " 'Zabłocie 01': '?lang=PL&rozklad=20240504&linia=50__1__20',\n",
       " 'Klimeckiego 01': '?lang=PL&rozklad=20240504&linia=50__1__21',\n",
       " 'Kuklińskiego 01': '?lang=PL&rozklad=20240504&linia=50__1__22',\n",
       " 'Gromadzka 01': '?lang=PL&rozklad=20240504&linia=50__1__23',\n",
       " 'Lipska 03': '?lang=PL&rozklad=20240504&linia=50__1__24',\n",
       " 'Dworzec Płaszów Estakada 02': '?lang=PL&rozklad=20240504&linia=50__1__25',\n",
       " 'Kabel 01': '?lang=PL&rozklad=20240504&linia=50__1__26',\n",
       " 'Bieżanowska 03': '?lang=PL&rozklad=20240504&linia=50__1__27',\n",
       " 'Dauna 01': '?lang=PL&rozklad=20240504&linia=50__1__28',\n",
       " 'Piaski Nowe 01': '?lang=PL&rozklad=20240504&linia=50__1__29',\n",
       " 'Nowosądecka 01': '?lang=PL&rozklad=20240504&linia=50__1__30',\n",
       " 'Witosa 01': '?lang=PL&rozklad=20240504&linia=50__1__31',\n",
       " 'Kurdwanów P+R 08': '?lang=PL&rozklad=20240504&linia=50__1__32',\n",
       " 'Kurdwanów P+R 10': '?lang=PL&rozklad=20240504&linia=50__1__33',\n",
       " 'Turowicza 02': '?lang=PL&rozklad=20240504&linia=50__1__34',\n",
       " 'Sanktuarium Bożego Miłosierdzia 02': '?lang=PL&rozklad=20240504&linia=50__1__35',\n",
       " 'Łagiewniki SKA 01': '?lang=PL&rozklad=20240504&linia=50__1__36',\n",
       " 'Solvay 01': '?lang=PL&rozklad=20240504&linia=50__1__37',\n",
       " 'Borek Fałęcki I 01': '?lang=PL&rozklad=20240504&linia=50__1__38',\n",
       " 'Borek Fałęcki': None}"
      ]
     },
     "execution_count": 14,
     "metadata": {},
     "output_type": "execute_result"
    }
   ],
   "execution_count": 14
  },
  {
   "metadata": {},
   "cell_type": "markdown",
   "source": "#### First stop's departures"
  },
  {
   "metadata": {
    "ExecuteTime": {
     "end_time": "2024-05-05T22:50:09.174127Z",
     "start_time": "2024-05-05T22:50:08.978566Z"
    }
   },
   "cell_type": "code",
   "source": "browser.open(os.environ.get('TIMETABLE_URL') + list(stop_urls.values())[0])",
   "outputs": [
    {
     "data": {
      "text/plain": [
       "<Response [200]>"
      ]
     },
     "execution_count": 15,
     "metadata": {},
     "output_type": "execute_result"
    }
   ],
   "execution_count": 15
  },
  {
   "metadata": {
    "ExecuteTime": {
     "end_time": "2024-05-05T22:50:09.179839Z",
     "start_time": "2024-05-05T22:50:09.174933Z"
    }
   },
   "cell_type": "code",
   "source": [
    "for item in browser.page.findAll(\"table\")[13].findAll(\"tr\")[1:-2]:\n",
    "    cells = item.findAll(\"td\")\n",
    "\n",
    "    hour = int(cells[0].text)\n",
    "    print()\n",
    "    weekday_minutes = [int(re.sub(\"[^0-9]\", \"\", minute)) for minute in cells[1].text.strip().split()]\n",
    "    saturday_minutes = [int(re.sub(\"[^0-9]\", \"\", minute)) for minute in cells[2].text.strip().split()]\n",
    "    sunday_minutes = [int(re.sub(\"[^0-9]\", \"\", minute)) for minute in cells[3].text.strip().split()]\n",
    "\n",
    "    print(hour, weekday_minutes, saturday_minutes, sunday_minutes, sep=\"\\t\")"
   ],
   "outputs": [
    {
     "name": "stdout",
     "output_type": "stream",
     "text": [
      "\n",
      "3\t[]\t[]\t[]\n",
      "\n",
      "4\t[37, 54]\t[40]\t[47]\n",
      "\n",
      "5\t[12, 23, 38, 45, 53]\t[0, 20, 40]\t[17, 47]\n",
      "\n",
      "6\t[0, 7, 15, 22, 30, 38, 45, 53]\t[0, 20, 40]\t[17, 47]\n",
      "\n",
      "7\t[0, 8, 15, 23, 30, 38, 45, 53]\t[0, 20, 40, 48, 59]\t[17, 38, 59]\n",
      "\n",
      "8\t[0, 8, 15, 24, 32, 39, 47, 54]\t[8, 19, 28, 39, 48, 59]\t[19, 39, 59]\n",
      "\n",
      "9\t[2, 9, 17, 24, 32, 39, 47, 54]\t[8, 19, 28, 39, 48, 59]\t[19, 39, 59]\n",
      "\n",
      "10\t[2, 9, 17, 24, 32, 39, 47, 54]\t[8, 19, 28, 39, 48, 59]\t[19, 39, 59]\n",
      "\n",
      "11\t[2, 9, 17, 24, 32, 39, 47, 54]\t[8, 19, 28, 39, 48, 59]\t[19, 39, 59]\n",
      "\n",
      "12\t[2, 9, 17, 24, 32, 39, 46, 54]\t[8, 19, 28, 39, 48, 59]\t[19, 39, 59]\n",
      "\n",
      "13\t[2, 9, 18, 25, 33, 39, 48, 56]\t[8, 19, 28, 39, 48, 59]\t[19, 39, 48, 59]\n",
      "\n",
      "14\t[3, 11, 18, 26, 33, 41, 48, 56]\t[8, 19, 28, 39, 48, 59]\t[8, 19, 28, 39, 48, 59]\n",
      "\n",
      "15\t[3, 11, 18, 26, 33, 41, 48, 56]\t[8, 19, 28, 39, 48, 59]\t[8, 19, 28, 39, 48, 59]\n",
      "\n",
      "16\t[3, 11, 18, 26, 33, 39, 48, 56]\t[8, 19, 28, 39, 48, 59]\t[8, 19, 28, 39, 48, 59]\n",
      "\n",
      "17\t[3, 11, 18, 26, 33, 41, 48, 55]\t[8, 19, 28, 39, 48, 59]\t[8, 19, 28, 39, 48, 59]\n",
      "\n",
      "18\t[3, 10, 17, 25, 33, 40, 49, 56]\t[8, 19, 28, 39, 48, 59]\t[8, 19, 28, 39, 48, 59]\n",
      "\n",
      "19\t[4, 11, 31, 46]\t[8, 19, 28, 39, 47]\t[8, 19, 28, 39, 47]\n",
      "\n",
      "20\t[1, 17, 31, 45]\t[0, 20, 40]\t[0, 20, 40]\n",
      "\n",
      "21\t[0, 14, 29, 46]\t[0, 20, 40]\t[0, 20, 40]\n",
      "\n",
      "22\t[5, 25, 45]\t[0, 20, 40]\t[0, 20, 40]\n",
      "\n",
      "23\t[]\t[0]\t[0]\n",
      "\n",
      "0\t[]\t[]\t[]\n"
     ]
    }
   ],
   "execution_count": 16
  }
 ],
 "metadata": {
  "kernelspec": {
   "display_name": "venv",
   "language": "python",
   "name": "python3"
  },
  "language_info": {
   "codemirror_mode": {
    "name": "ipython",
    "version": 3
   },
   "file_extension": ".py",
   "mimetype": "text/x-python",
   "name": "python",
   "nbconvert_exporter": "python",
   "pygments_lexer": "ipython3",
   "version": "3.11.6"
  }
 },
 "nbformat": 4,
 "nbformat_minor": 2
}
